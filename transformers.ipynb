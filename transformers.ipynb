{
 "cells": [
  {
   "cell_type": "code",
   "execution_count": 4,
   "metadata": {},
   "outputs": [],
   "source": [
    "import torch\n",
    "from torchvision import datasets\n",
    "from torchvision.transforms import ToTensor,Lambda\n",
    "\n",
    "ds=datasets.FashionMNIST(\n",
    "    root=\"data\",\n",
    "    train=True,\n",
    "    download=True,\n",
    "    transform=ToTensor(),\n",
    "    target_transform=Lambda(lambda y:torch.zeros(10,dtype=torch.float).scatter_(0,torch.tensor(y),value=1))\n",
    ")"
   ]
  },
  {
   "cell_type": "code",
   "execution_count": 2,
   "metadata": {},
   "outputs": [
    {
     "data": {
      "text/plain": [
       "tensor([0., 1., 0., 0., 0., 0., 0., 0., 0., 0.])"
      ]
     },
     "execution_count": 2,
     "metadata": {},
     "output_type": "execute_result"
    }
   ],
   "source": [
    "torch.zeros(10,dtype=torch.float).scatter_(0,torch.tensor(1),value=1)"
   ]
  },
  {
   "cell_type": "code",
   "execution_count": 6,
   "metadata": {},
   "outputs": [],
   "source": [
    "torch.tensor(1)\n",
    "input_image=torch.rand(3,28,28)"
   ]
  },
  {
   "cell_type": "code",
   "execution_count": 7,
   "metadata": {},
   "outputs": [
    {
     "name": "stdout",
     "output_type": "stream",
     "text": [
      "torch.Size([3, 28, 28])\n"
     ]
    }
   ],
   "source": [
    "print(f\"{input_image.size()}\")"
   ]
  },
  {
   "cell_type": "code",
   "execution_count": 9,
   "metadata": {},
   "outputs": [
    {
     "name": "stdout",
     "output_type": "stream",
     "text": [
      "torch.Size([3, 784])\n"
     ]
    }
   ],
   "source": [
    "from torch import nn\n",
    "flattern=nn.Flatten()\n",
    "flat_image=flattern(input_image)\n",
    "print(flat_image.size())\n"
   ]
  },
  {
   "cell_type": "code",
   "execution_count": 10,
   "metadata": {},
   "outputs": [
    {
     "name": "stdout",
     "output_type": "stream",
     "text": [
      "torch.Size([3, 20])\n"
     ]
    }
   ],
   "source": [
    "layer1=nn.Linear(in_features=28*28,out_features=20)\n",
    "hidden1=layer1(flat_image)\n",
    "print(hidden1.size())"
   ]
  },
  {
   "cell_type": "code",
   "execution_count": 11,
   "metadata": {},
   "outputs": [
    {
     "name": "stdout",
     "output_type": "stream",
     "text": [
      "Before ReLU:tensor([[-0.2094, -0.0384,  0.2660,  0.0574,  0.4865, -0.3501, -0.4141, -0.3784,\n",
      "         -0.0897,  0.1174, -0.1649,  0.6103,  0.8611, -0.1728,  0.3123, -0.4789,\n",
      "         -0.0632,  0.2517, -0.7852, -0.3261],\n",
      "        [-0.3276,  0.1557,  0.9369,  0.0686,  0.3971, -0.2184, -0.5135, -0.5442,\n",
      "         -0.0227, -0.0805, -0.2419,  0.6618,  0.6380,  0.0608,  0.3582, -0.5822,\n",
      "          0.2970,  0.2636, -0.7168, -0.0751],\n",
      "        [-0.1281,  0.4012,  0.3575, -0.0680,  0.3042, -0.3125, -0.6948, -0.5237,\n",
      "          0.1450,  0.1439, -0.2667,  0.4990,  0.7478, -0.2145,  0.4990, -0.4256,\n",
      "          0.2469,  0.5350, -0.7432, -0.2749]], grad_fn=<AddmmBackward0>) \n",
      "\n",
      "\n",
      "After ReLU:tensor([[0.0000, 0.0000, 0.2660, 0.0574, 0.4865, 0.0000, 0.0000, 0.0000, 0.0000,\n",
      "         0.1174, 0.0000, 0.6103, 0.8611, 0.0000, 0.3123, 0.0000, 0.0000, 0.2517,\n",
      "         0.0000, 0.0000],\n",
      "        [0.0000, 0.1557, 0.9369, 0.0686, 0.3971, 0.0000, 0.0000, 0.0000, 0.0000,\n",
      "         0.0000, 0.0000, 0.6618, 0.6380, 0.0608, 0.3582, 0.0000, 0.2970, 0.2636,\n",
      "         0.0000, 0.0000],\n",
      "        [0.0000, 0.4012, 0.3575, 0.0000, 0.3042, 0.0000, 0.0000, 0.0000, 0.1450,\n",
      "         0.1439, 0.0000, 0.4990, 0.7478, 0.0000, 0.4990, 0.0000, 0.2469, 0.5350,\n",
      "         0.0000, 0.0000]], grad_fn=<ReluBackward0>)\n"
     ]
    }
   ],
   "source": [
    "print(f\"Before ReLU:{hidden1} \\n\\n\")\n",
    "hidden1=nn.ReLU()(hidden1)\n",
    "print(f\"After ReLU:{hidden1}\")"
   ]
  },
  {
   "cell_type": "code",
   "execution_count": 12,
   "metadata": {},
   "outputs": [],
   "source": [
    "seq_modules=nn.Sequential(\n",
    "    flattern,\n",
    "    layer1,\n",
    "    nn.ReLU(),\n",
    "    nn.Linear(20,10)\n",
    ")\n",
    "input_image=torch.rand(3,28,28)\n",
    "logits=seq_modules(input_image)"
   ]
  },
  {
   "cell_type": "code",
   "execution_count": 13,
   "metadata": {},
   "outputs": [
    {
     "data": {
      "text/plain": [
       "tensor([[ 0.3686, -0.0575, -0.0359,  0.3938,  0.3020, -0.0484,  0.3736,  0.3380,\n",
       "          0.2281,  0.1739],\n",
       "        [ 0.3408, -0.1263,  0.1480,  0.2421,  0.1392,  0.0377,  0.3217,  0.2190,\n",
       "          0.1461,  0.1167],\n",
       "        [ 0.3038, -0.0989, -0.0086,  0.3743,  0.1091, -0.0092,  0.3116,  0.2652,\n",
       "          0.1678,  0.1244]], grad_fn=<AddmmBackward0>)"
      ]
     },
     "execution_count": 13,
     "metadata": {},
     "output_type": "execute_result"
    }
   ],
   "source": [
    "logits"
   ]
  },
  {
   "cell_type": "code",
   "execution_count": 14,
   "metadata": {},
   "outputs": [
    {
     "data": {
      "text/plain": [
       "tensor([[0.1162, 0.0759, 0.0775, 0.1192, 0.1087, 0.0766, 0.1168, 0.1127, 0.1010,\n",
       "         0.0956],\n",
       "        [0.1190, 0.0746, 0.0981, 0.1078, 0.0973, 0.0879, 0.1168, 0.1054, 0.0980,\n",
       "         0.0951],\n",
       "        [0.1149, 0.0768, 0.0840, 0.1233, 0.0945, 0.0840, 0.1158, 0.1105, 0.1003,\n",
       "         0.0960]], grad_fn=<SoftmaxBackward0>)"
      ]
     },
     "execution_count": 14,
     "metadata": {},
     "output_type": "execute_result"
    }
   ],
   "source": [
    "softmax=nn.Softmax(dim=1)\n",
    "pred_probab=softmax(logits)\n",
    "pred_probab"
   ]
  },
  {
   "cell_type": "code",
   "execution_count": 15,
   "metadata": {},
   "outputs": [],
   "source": [
    "class NeuralNetwork(nn.Module):\n",
    "    def __init__(self):\n",
    "        super().__init__()\n",
    "        self.flatten = nn.Flatten()\n",
    "        self.linear_relu_stack = nn.Sequential(\n",
    "            nn.Linear(28*28, 512),\n",
    "            nn.ReLU(),\n",
    "            nn.Linear(512, 512),\n",
    "            nn.ReLU(),\n",
    "            nn.Linear(512, 10),\n",
    "        )\n",
    "\n",
    "    def forward(self, x):\n",
    "        x = self.flatten(x)\n",
    "        logits = self.linear_relu_stack(x)\n",
    "        return logits"
   ]
  },
  {
   "cell_type": "code",
   "execution_count": 16,
   "metadata": {},
   "outputs": [
    {
     "name": "stdout",
     "output_type": "stream",
     "text": [
      "NeuralNetwork(\n",
      "  (flatten): Flatten(start_dim=1, end_dim=-1)\n",
      "  (linear_relu_stack): Sequential(\n",
      "    (0): Linear(in_features=784, out_features=512, bias=True)\n",
      "    (1): ReLU()\n",
      "    (2): Linear(in_features=512, out_features=512, bias=True)\n",
      "    (3): ReLU()\n",
      "    (4): Linear(in_features=512, out_features=10, bias=True)\n",
      "  )\n",
      ")\n"
     ]
    }
   ],
   "source": [
    "model = NeuralNetwork().to(\"cpu\")\n",
    "print(model)"
   ]
  },
  {
   "cell_type": "code",
   "execution_count": 17,
   "metadata": {},
   "outputs": [
    {
     "name": "stdout",
     "output_type": "stream",
     "text": [
      "Layer:linear_relu_stack.0.weight | Size:torch.Size([512, 784]) | Values:tensor([[-0.0327, -0.0254, -0.0027,  ..., -0.0162,  0.0038, -0.0308],\n",
      "        [-0.0057, -0.0252,  0.0248,  ..., -0.0306, -0.0327,  0.0018]],\n",
      "       grad_fn=<SliceBackward0>) \n",
      "\n",
      "Layer:linear_relu_stack.0.bias | Size:torch.Size([512]) | Values:tensor([ 0.0018, -0.0232], grad_fn=<SliceBackward0>) \n",
      "\n",
      "Layer:linear_relu_stack.2.weight | Size:torch.Size([512, 512]) | Values:tensor([[-0.0392,  0.0065, -0.0272,  ..., -0.0282, -0.0252,  0.0208],\n",
      "        [-0.0353, -0.0265, -0.0310,  ...,  0.0414, -0.0199,  0.0430]],\n",
      "       grad_fn=<SliceBackward0>) \n",
      "\n",
      "Layer:linear_relu_stack.2.bias | Size:torch.Size([512]) | Values:tensor([-0.0183,  0.0174], grad_fn=<SliceBackward0>) \n",
      "\n",
      "Layer:linear_relu_stack.4.weight | Size:torch.Size([10, 512]) | Values:tensor([[ 0.0173, -0.0255, -0.0233,  ..., -0.0268,  0.0420,  0.0175],\n",
      "        [-0.0078,  0.0356,  0.0364,  ..., -0.0411,  0.0172,  0.0187]],\n",
      "       grad_fn=<SliceBackward0>) \n",
      "\n",
      "Layer:linear_relu_stack.4.bias | Size:torch.Size([10]) | Values:tensor([-0.0169, -0.0064], grad_fn=<SliceBackward0>) \n",
      "\n"
     ]
    }
   ],
   "source": [
    "for name,param in model.named_parameters():\n",
    "    print(f\"Layer:{name} | Size:{param.size()} | Values:{param[:2]} \\n\")"
   ]
  }
 ],
 "metadata": {
  "kernelspec": {
   "display_name": "pytorch-learning",
   "language": "python",
   "name": "python3"
  },
  "language_info": {
   "codemirror_mode": {
    "name": "ipython",
    "version": 3
   },
   "file_extension": ".py",
   "mimetype": "text/x-python",
   "name": "python",
   "nbconvert_exporter": "python",
   "pygments_lexer": "ipython3",
   "version": "3.12.4"
  }
 },
 "nbformat": 4,
 "nbformat_minor": 2
}
