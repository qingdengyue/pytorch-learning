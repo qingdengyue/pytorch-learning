{
 "cells": [
  {
   "cell_type": "code",
   "execution_count": 3,
   "metadata": {},
   "outputs": [
    {
     "name": "stdout",
     "output_type": "stream",
     "text": [
      "x:tensor([1., 1., 1., 1., 1.])\n",
      "y:tensor([0., 0., 0.])\n"
     ]
    }
   ],
   "source": [
    "import torch\n",
    "x=torch.ones(5) #input\n",
    "print(f\"x:{x}\")\n",
    "y=torch.zeros(3) #output\n",
    "print(f\"y:{y}\")"
   ]
  },
  {
   "cell_type": "code",
   "execution_count": 4,
   "metadata": {},
   "outputs": [
    {
     "name": "stdout",
     "output_type": "stream",
     "text": [
      "w:tensor([[-1.2740, -0.1928,  0.8878],\n",
      "        [ 0.3585, -0.8234,  1.6072],\n",
      "        [ 0.7761,  1.1615, -2.6576],\n",
      "        [-0.9331,  1.0943,  1.9007],\n",
      "        [ 0.3221,  0.0931, -0.3065]], requires_grad=True)\n"
     ]
    }
   ],
   "source": [
    "w=torch.randn(5,3,requires_grad=True)\n",
    "print(f\"w:{w}\")"
   ]
  },
  {
   "cell_type": "code",
   "execution_count": 5,
   "metadata": {},
   "outputs": [
    {
     "name": "stdout",
     "output_type": "stream",
     "text": [
      "b:tensor([ 0.6414,  0.8172, -1.4725], requires_grad=True)\n"
     ]
    }
   ],
   "source": [
    "b=torch.randn(3,requires_grad=True)\n",
    "print(f\"b:{b}\")"
   ]
  },
  {
   "cell_type": "code",
   "execution_count": 6,
   "metadata": {},
   "outputs": [
    {
     "name": "stdout",
     "output_type": "stream",
     "text": [
      "z:tensor([-0.1089,  2.1500, -0.0409], grad_fn=<AddBackward0>)\n"
     ]
    }
   ],
   "source": [
    "z=torch.matmul(x,w)+b\n",
    "print(f\"z:{z}\")"
   ]
  },
  {
   "cell_type": "code",
   "execution_count": 7,
   "metadata": {},
   "outputs": [
    {
     "name": "stdout",
     "output_type": "stream",
     "text": [
      "tensor(1.1911, grad_fn=<BinaryCrossEntropyWithLogitsBackward0>)\n"
     ]
    }
   ],
   "source": [
    "loss=torch.nn.functional.binary_cross_entropy_with_logits(z,y)\n",
    "print(loss)"
   ]
  },
  {
   "cell_type": "markdown",
   "metadata": {},
   "source": [
    "![flow](./images/comp-graph.png)"
   ]
  },
  {
   "cell_type": "code",
   "execution_count": 8,
   "metadata": {},
   "outputs": [
    {
     "name": "stdout",
     "output_type": "stream",
     "text": [
      "Gradient function for z=<AddBackward0 object at 0x0000019A99D80A60>\n",
      "Gradient function for loss=<BinaryCrossEntropyWithLogitsBackward0 object at 0x0000019A98981930>\n"
     ]
    }
   ],
   "source": [
    "print(f\"Gradient function for z={z.grad_fn}\")\n",
    "print(f\"Gradient function for loss={loss.grad_fn}\")"
   ]
  },
  {
   "cell_type": "code",
   "execution_count": 9,
   "metadata": {},
   "outputs": [
    {
     "name": "stdout",
     "output_type": "stream",
     "text": [
      "tensor([[0.1576, 0.2986, 0.1633],\n",
      "        [0.1576, 0.2986, 0.1633],\n",
      "        [0.1576, 0.2986, 0.1633],\n",
      "        [0.1576, 0.2986, 0.1633],\n",
      "        [0.1576, 0.2986, 0.1633]])\n",
      "tensor([0.1576, 0.2986, 0.1633])\n"
     ]
    }
   ],
   "source": [
    "loss.backward()\n",
    "print(w.grad)\n",
    "print(b.grad)"
   ]
  },
  {
   "cell_type": "code",
   "execution_count": 11,
   "metadata": {},
   "outputs": [
    {
     "name": "stdout",
     "output_type": "stream",
     "text": [
      "True\n"
     ]
    }
   ],
   "source": [
    "import torch\n",
    "z=torch.matmul(x,w)+b\n",
    "print(z.requires_grad)"
   ]
  },
  {
   "cell_type": "code",
   "execution_count": 12,
   "metadata": {},
   "outputs": [
    {
     "name": "stdout",
     "output_type": "stream",
     "text": [
      "False\n"
     ]
    }
   ],
   "source": [
    "with torch.no_grad():\n",
    "    z=torch.matmul(x,w)+b\n",
    "print(z.requires_grad)"
   ]
  },
  {
   "cell_type": "code",
   "execution_count": 13,
   "metadata": {},
   "outputs": [
    {
     "name": "stdout",
     "output_type": "stream",
     "text": [
      "False\n"
     ]
    }
   ],
   "source": [
    "z=torch.matmul(x,w)+b\n",
    "z_det=z.detach()\n",
    "print(z_det.requires_grad)"
   ]
  }
 ],
 "metadata": {
  "kernelspec": {
   "display_name": "pytorch-learning",
   "language": "python",
   "name": "python3"
  },
  "language_info": {
   "codemirror_mode": {
    "name": "ipython",
    "version": 3
   },
   "file_extension": ".py",
   "mimetype": "text/x-python",
   "name": "python",
   "nbconvert_exporter": "python",
   "pygments_lexer": "ipython3",
   "version": "3.12.4"
  }
 },
 "nbformat": 4,
 "nbformat_minor": 2
}
