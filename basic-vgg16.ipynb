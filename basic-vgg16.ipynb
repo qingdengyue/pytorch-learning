{
 "cells": [
  {
   "cell_type": "code",
   "execution_count": 1,
   "metadata": {},
   "outputs": [],
   "source": [
    "import torch\n",
    "from torch import nn\n",
    "from torch.utils.data import DataLoader\n",
    "from torchvision import datasets\n",
    "from torchvision.transforms import ToTensor"
   ]
  },
  {
   "cell_type": "code",
   "execution_count": 2,
   "metadata": {},
   "outputs": [],
   "source": [
    "training_data=datasets.FashionMNIST(\n",
    "    root=\"data\",\n",
    "    train=True,\n",
    "    download=True,\n",
    "    transform=ToTensor()\n",
    ")\n",
    "test_data=datasets.FashionMNIST(\n",
    "    root=\"data\",\n",
    "    train=False,\n",
    "    download=True,\n",
    "    transform=ToTensor()\n",
    ")"
   ]
  },
  {
   "cell_type": "code",
   "execution_count": 3,
   "metadata": {},
   "outputs": [
    {
     "name": "stdout",
     "output_type": "stream",
     "text": [
      "Shape of X [N,C,H,W]:torch.Size([64, 1, 28, 28])\n",
      "Shape of y:torch.Size([64]) torch.int64\n"
     ]
    }
   ],
   "source": [
    "batch_size=64\n",
    "train_dataloader=DataLoader(training_data,batch_size=batch_size)\n",
    "test_dataloader=DataLoader(test_data,batch_size=batch_size)\n",
    "\n",
    "for X,y in test_dataloader:\n",
    "    print(f\"Shape of X [N,C,H,W]:{X.shape}\")\n",
    "    print(f\"Shape of y:{y.shape} {y.dtype}\")\n",
    "    break"
   ]
  },
  {
   "cell_type": "code",
   "execution_count": 4,
   "metadata": {},
   "outputs": [],
   "source": [
    "device=(\n",
    "    \"cuda\"\n",
    "    if torch.cuda.is_available()\n",
    "    else \"mps\"\n",
    "    if torch.backends.mps.is_available()\n",
    "    else \"cpu\"\n",
    ")"
   ]
  },
  {
   "cell_type": "code",
   "execution_count": 5,
   "metadata": {},
   "outputs": [
    {
     "name": "stdout",
     "output_type": "stream",
     "text": [
      "cpu\n"
     ]
    }
   ],
   "source": [
    "\n",
    "print(device)"
   ]
  },
  {
   "cell_type": "code",
   "execution_count": 6,
   "metadata": {},
   "outputs": [
    {
     "name": "stdout",
     "output_type": "stream",
     "text": [
      "NeuralNetwork(\n",
      "  (flatten): Flatten(start_dim=1, end_dim=-1)\n",
      "  (linear_relu_stack): Sequential(\n",
      "    (0): Linear(in_features=784, out_features=512, bias=True)\n",
      "    (1): ReLU()\n",
      "    (2): Linear(in_features=512, out_features=512, bias=True)\n",
      "    (3): ReLU()\n",
      "    (4): Linear(in_features=512, out_features=10, bias=True)\n",
      "  )\n",
      ")\n"
     ]
    }
   ],
   "source": [
    "class NeuralNetwork(nn.Module):\n",
    "    def __init__(self):\n",
    "        super().__init__()\n",
    "        self.flatten=nn.Flatten()\n",
    "        self.linear_relu_stack=nn.Sequential(\n",
    "            nn.Linear(28*28,512),\n",
    "            nn.ReLU(),\n",
    "            nn.Linear(512,512),\n",
    "            nn.ReLU(),\n",
    "            nn.Linear(512,10),\n",
    "        )\n",
    "\n",
    "    def forward(self,x):\n",
    "        x=self.flatten(x)\n",
    "        logits=self.linear_relu_stack(x)\n",
    "        return logits\n",
    "\n",
    "model=NeuralNetwork().to(device)\n",
    "print(model)"
   ]
  },
  {
   "cell_type": "code",
   "execution_count": 7,
   "metadata": {},
   "outputs": [],
   "source": [
    "loss_fn=nn.CrossEntropyLoss()\n",
    "optimizer=torch.optim.SGD(model.parameters(),lr=1e-3)"
   ]
  },
  {
   "cell_type": "code",
   "execution_count": 8,
   "metadata": {},
   "outputs": [],
   "source": [
    "def train(dataloader,model,loss_fn,optimizer):\n",
    "    size=len(dataloader.dataset)\n",
    "    model.train()\n",
    "    for batch,(X,y) in enumerate(dataloader):\n",
    "        X,y=X.to(device),y.to(device)\n",
    "        pred=model(X)\n",
    "        loss=loss_fn(pred,y)\n",
    "        loss.backward()\n",
    "        optimizer.step()\n",
    "        optimizer.zero_grad()\n",
    "        if batch % 100==0:\n",
    "            loss,current=loss.item(),(batch+1)*len(X)\n",
    "            print(f\"loss:{loss:>7f}[{current:>5d}|{size:>5d}]\")"
   ]
  },
  {
   "cell_type": "code",
   "execution_count": 9,
   "metadata": {},
   "outputs": [],
   "source": [
    "def test(dataloader,model,loss_fn):\n",
    "    size=len(dataloader.dataset)\n",
    "    num_batches=len(dataloader)\n",
    "    model.eval()\n",
    "    test_loss,correct=0,0\n",
    "    with torch.no_grad():\n",
    "        for X,y in dataloader:\n",
    "            X,y=X.to(device),y.to(device)\n",
    "            pred=model(X)\n",
    "            test_loss+=loss_fn(pred,y).item()\n",
    "            correct+=(pred.argmax(1)==y).type(torch.float).sum().item()\n",
    "        test_loss/=num_batches\n",
    "        correct/=size\n",
    "        print(f\"Test Error:\\n Accuracy:{100*correct:>0.1f}%, Avg loss:{test_loss:>8f}\\n\")"
   ]
  },
  {
   "cell_type": "code",
   "execution_count": 10,
   "metadata": {},
   "outputs": [
    {
     "name": "stdout",
     "output_type": "stream",
     "text": [
      "Epoch 1\n",
      "-------------------\n",
      "loss:2.306598[   64|60000]\n",
      "loss:2.292994[ 6464|60000]\n",
      "loss:2.264856[12864|60000]\n",
      "loss:2.258965[19264|60000]\n",
      "loss:2.244681[25664|60000]\n",
      "loss:2.218702[32064|60000]\n",
      "loss:2.219215[38464|60000]\n",
      "loss:2.185597[44864|60000]\n",
      "loss:2.178462[51264|60000]\n",
      "loss:2.139923[57664|60000]\n",
      "Test Error:\n",
      " Accuracy:47.9%, Avg loss:2.141292\n",
      "\n",
      "Epoch 2\n",
      "-------------------\n",
      "loss:2.151059[   64|60000]\n",
      "loss:2.142791[ 6464|60000]\n",
      "loss:2.069249[12864|60000]\n",
      "loss:2.089998[19264|60000]\n",
      "loss:2.038016[25664|60000]\n",
      "loss:1.975318[32064|60000]\n",
      "loss:2.000074[38464|60000]\n",
      "loss:1.912492[44864|60000]\n",
      "loss:1.921550[51264|60000]\n",
      "loss:1.840335[57664|60000]\n",
      "Test Error:\n",
      " Accuracy:57.5%, Avg loss:1.843347\n",
      "\n",
      "Epoch 3\n",
      "-------------------\n",
      "loss:1.875695[   64|60000]\n",
      "loss:1.850901[ 6464|60000]\n",
      "loss:1.714325[12864|60000]\n",
      "loss:1.764204[19264|60000]\n",
      "loss:1.658986[25664|60000]\n",
      "loss:1.604299[32064|60000]\n",
      "loss:1.625854[38464|60000]\n",
      "loss:1.523128[44864|60000]\n",
      "loss:1.558316[51264|60000]\n",
      "loss:1.451685[57664|60000]\n",
      "Test Error:\n",
      " Accuracy:60.6%, Avg loss:1.475027\n",
      "\n",
      "Epoch 4\n",
      "-------------------\n",
      "loss:1.537287[   64|60000]\n",
      "loss:1.517699[ 6464|60000]\n",
      "loss:1.352682[12864|60000]\n",
      "loss:1.434451[19264|60000]\n",
      "loss:1.327409[25664|60000]\n",
      "loss:1.312564[32064|60000]\n",
      "loss:1.329752[38464|60000]\n",
      "loss:1.253461[44864|60000]\n",
      "loss:1.298368[51264|60000]\n",
      "loss:1.199604[57664|60000]\n",
      "Test Error:\n",
      " Accuracy:63.1%, Avg loss:1.228911\n",
      "\n",
      "Epoch 5\n",
      "-------------------\n",
      "loss:1.297586[   64|60000]\n",
      "loss:1.297106[ 6464|60000]\n",
      "loss:1.118060[12864|60000]\n",
      "loss:1.230271[19264|60000]\n",
      "loss:1.116330[25664|60000]\n",
      "loss:1.129041[32064|60000]\n",
      "loss:1.154597[38464|60000]\n",
      "loss:1.090003[44864|60000]\n",
      "loss:1.137916[51264|60000]\n",
      "loss:1.055093[57664|60000]\n",
      "Test Error:\n",
      " Accuracy:64.5%, Avg loss:1.077402\n",
      "\n",
      "Epoch 6\n",
      "-------------------\n",
      "loss:1.138220[   64|60000]\n",
      "loss:1.159256[ 6464|60000]\n",
      "loss:0.965106[12864|60000]\n",
      "loss:1.102081[19264|60000]\n",
      "loss:0.985950[25664|60000]\n",
      "loss:1.005012[32064|60000]\n",
      "loss:1.045764[38464|60000]\n",
      "loss:0.985345[44864|60000]\n",
      "loss:1.030831[51264|60000]\n",
      "loss:0.964255[57664|60000]\n",
      "Test Error:\n",
      " Accuracy:66.0%, Avg loss:0.977988\n",
      "\n",
      "Epoch 7\n",
      "-------------------\n",
      "loss:1.025280[   64|60000]\n",
      "loss:1.068607[ 6464|60000]\n",
      "loss:0.858805[12864|60000]\n",
      "loss:1.015073[19264|60000]\n",
      "loss:0.902369[25664|60000]\n",
      "loss:0.915581[32064|60000]\n",
      "loss:0.972746[38464|60000]\n",
      "loss:0.915678[44864|60000]\n",
      "loss:0.954664[51264|60000]\n",
      "loss:0.901584[57664|60000]\n",
      "Test Error:\n",
      " Accuracy:67.4%, Avg loss:0.908363\n",
      "\n",
      "Epoch 8\n",
      "-------------------\n",
      "loss:0.939860[   64|60000]\n",
      "loss:1.004036[ 6464|60000]\n",
      "loss:0.781143[12864|60000]\n",
      "loss:0.952002[19264|60000]\n",
      "loss:0.844988[25664|60000]\n",
      "loss:0.848573[32064|60000]\n",
      "loss:0.919758[38464|60000]\n",
      "loss:0.867700[44864|60000]\n",
      "loss:0.898360[51264|60000]\n",
      "loss:0.855349[57664|60000]\n",
      "Test Error:\n",
      " Accuracy:68.8%, Avg loss:0.856934\n",
      "\n",
      "Epoch 9\n",
      "-------------------\n",
      "loss:0.872911[   64|60000]\n",
      "loss:0.954717[ 6464|60000]\n",
      "loss:0.722075[12864|60000]\n",
      "loss:0.904151[19264|60000]\n",
      "loss:0.803101[25664|60000]\n",
      "loss:0.797357[32064|60000]\n",
      "loss:0.878751[38464|60000]\n",
      "loss:0.833231[44864|60000]\n",
      "loss:0.855531[51264|60000]\n",
      "loss:0.819108[57664|60000]\n",
      "Test Error:\n",
      " Accuracy:70.1%, Avg loss:0.817180\n",
      "\n",
      "Epoch 10\n",
      "-------------------\n",
      "loss:0.819051[   64|60000]\n",
      "loss:0.914190[ 6464|60000]\n",
      "loss:0.675482[12864|60000]\n",
      "loss:0.866721[19264|60000]\n",
      "loss:0.770726[25664|60000]\n",
      "loss:0.757559[32064|60000]\n",
      "loss:0.845131[38464|60000]\n",
      "loss:0.807026[44864|60000]\n",
      "loss:0.821944[51264|60000]\n",
      "loss:0.789383[57664|60000]\n",
      "Test Error:\n",
      " Accuracy:71.6%, Avg loss:0.785174\n",
      "\n",
      "Done!\n"
     ]
    }
   ],
   "source": [
    "epoches=10\n",
    "for t in range(epoches):\n",
    "    print(f\"Epoch {t+1}\\n-------------------\")\n",
    "    train(train_dataloader,model,loss_fn,optimizer)\n",
    "    test(test_dataloader,model,loss_fn)\n",
    "print(\"Done!\")"
   ]
  },
  {
   "cell_type": "code",
   "execution_count": 11,
   "metadata": {},
   "outputs": [
    {
     "name": "stdout",
     "output_type": "stream",
     "text": [
      "Saved PyTorch Model State to model.pth\n"
     ]
    }
   ],
   "source": [
    "torch.save(model.state_dict(),\"model.pth\")\n",
    "print(\"Saved PyTorch Model State to model.pth\")"
   ]
  },
  {
   "cell_type": "code",
   "execution_count": 12,
   "metadata": {},
   "outputs": [
    {
     "data": {
      "text/plain": [
       "<All keys matched successfully>"
      ]
     },
     "execution_count": 12,
     "metadata": {},
     "output_type": "execute_result"
    }
   ],
   "source": [
    "import torch\n",
    "import torchvision.models as models\n",
    "model=NeuralNetwork().to(device)\n",
    "model.load_state_dict(torch.load(\"model.pth\"))"
   ]
  },
  {
   "cell_type": "code",
   "execution_count": 13,
   "metadata": {},
   "outputs": [
    {
     "name": "stdout",
     "output_type": "stream",
     "text": [
      "Precited:\"Pullover\",Actual:\"Pullover\"\n"
     ]
    }
   ],
   "source": [
    "classes=[\n",
    "    \"T-shirt/top\",\n",
    "    \"Trouser\",\n",
    "    \"Pullover\",\n",
    "    \"Dress\",\n",
    "    \"Coat\",\n",
    "    \"Sandal\",\n",
    "    \"Shirt\",\n",
    "    \"Sneaker\",\n",
    "    \"Bag\",\n",
    "    \"Ankle boot\"\n",
    "]\n",
    "\n",
    "model.eval()\n",
    "x,y=test_data[1][0],test_data[1][1]\n",
    "with torch.no_grad():\n",
    "    x=x.to(device)\n",
    "    pred=model(x)\n",
    "    predicted,actual=classes[pred[0].argmax(0)],classes[y]\n",
    "    print(f'Precited:\"{predicted}\",Actual:\"{actual}\"')\n"
   ]
  },
  {
   "cell_type": "code",
   "execution_count": 1,
   "metadata": {},
   "outputs": [
    {
     "name": "stderr",
     "output_type": "stream",
     "text": [
      "Downloading: \"https://download.pytorch.org/models/vgg16-397923af.pth\" to C:\\Users\\ruilong.zhao/.cache\\torch\\hub\\checkpoints\\vgg16-397923af.pth\n",
      "100.0%\n"
     ]
    }
   ],
   "source": [
    "import torch\n",
    "import torchvision.models as models\n",
    "model=models.vgg16(weights=\"IMAGENET1K_V1\")\n",
    "torch.save(model.state_dict(),'model_weights.pth')"
   ]
  },
  {
   "cell_type": "code",
   "execution_count": 2,
   "metadata": {},
   "outputs": [
    {
     "data": {
      "text/plain": [
       "VGG(\n",
       "  (features): Sequential(\n",
       "    (0): Conv2d(3, 64, kernel_size=(3, 3), stride=(1, 1), padding=(1, 1))\n",
       "    (1): ReLU(inplace=True)\n",
       "    (2): Conv2d(64, 64, kernel_size=(3, 3), stride=(1, 1), padding=(1, 1))\n",
       "    (3): ReLU(inplace=True)\n",
       "    (4): MaxPool2d(kernel_size=2, stride=2, padding=0, dilation=1, ceil_mode=False)\n",
       "    (5): Conv2d(64, 128, kernel_size=(3, 3), stride=(1, 1), padding=(1, 1))\n",
       "    (6): ReLU(inplace=True)\n",
       "    (7): Conv2d(128, 128, kernel_size=(3, 3), stride=(1, 1), padding=(1, 1))\n",
       "    (8): ReLU(inplace=True)\n",
       "    (9): MaxPool2d(kernel_size=2, stride=2, padding=0, dilation=1, ceil_mode=False)\n",
       "    (10): Conv2d(128, 256, kernel_size=(3, 3), stride=(1, 1), padding=(1, 1))\n",
       "    (11): ReLU(inplace=True)\n",
       "    (12): Conv2d(256, 256, kernel_size=(3, 3), stride=(1, 1), padding=(1, 1))\n",
       "    (13): ReLU(inplace=True)\n",
       "    (14): Conv2d(256, 256, kernel_size=(3, 3), stride=(1, 1), padding=(1, 1))\n",
       "    (15): ReLU(inplace=True)\n",
       "    (16): MaxPool2d(kernel_size=2, stride=2, padding=0, dilation=1, ceil_mode=False)\n",
       "    (17): Conv2d(256, 512, kernel_size=(3, 3), stride=(1, 1), padding=(1, 1))\n",
       "    (18): ReLU(inplace=True)\n",
       "    (19): Conv2d(512, 512, kernel_size=(3, 3), stride=(1, 1), padding=(1, 1))\n",
       "    (20): ReLU(inplace=True)\n",
       "    (21): Conv2d(512, 512, kernel_size=(3, 3), stride=(1, 1), padding=(1, 1))\n",
       "    (22): ReLU(inplace=True)\n",
       "    (23): MaxPool2d(kernel_size=2, stride=2, padding=0, dilation=1, ceil_mode=False)\n",
       "    (24): Conv2d(512, 512, kernel_size=(3, 3), stride=(1, 1), padding=(1, 1))\n",
       "    (25): ReLU(inplace=True)\n",
       "    (26): Conv2d(512, 512, kernel_size=(3, 3), stride=(1, 1), padding=(1, 1))\n",
       "    (27): ReLU(inplace=True)\n",
       "    (28): Conv2d(512, 512, kernel_size=(3, 3), stride=(1, 1), padding=(1, 1))\n",
       "    (29): ReLU(inplace=True)\n",
       "    (30): MaxPool2d(kernel_size=2, stride=2, padding=0, dilation=1, ceil_mode=False)\n",
       "  )\n",
       "  (avgpool): AdaptiveAvgPool2d(output_size=(7, 7))\n",
       "  (classifier): Sequential(\n",
       "    (0): Linear(in_features=25088, out_features=4096, bias=True)\n",
       "    (1): ReLU(inplace=True)\n",
       "    (2): Dropout(p=0.5, inplace=False)\n",
       "    (3): Linear(in_features=4096, out_features=4096, bias=True)\n",
       "    (4): ReLU(inplace=True)\n",
       "    (5): Dropout(p=0.5, inplace=False)\n",
       "    (6): Linear(in_features=4096, out_features=1000, bias=True)\n",
       "  )\n",
       ")"
      ]
     },
     "execution_count": 2,
     "metadata": {},
     "output_type": "execute_result"
    }
   ],
   "source": [
    "model=models.vgg16()\n",
    "model.load_state_dict(torch.load('model_weights.pth'))\n",
    "model.eval()"
   ]
  }
 ],
 "metadata": {
  "kernelspec": {
   "display_name": "pytorch-learning",
   "language": "python",
   "name": "python3"
  },
  "language_info": {
   "codemirror_mode": {
    "name": "ipython",
    "version": 3
   },
   "file_extension": ".py",
   "mimetype": "text/x-python",
   "name": "python",
   "nbconvert_exporter": "python",
   "pygments_lexer": "ipython3",
   "version": "3.12.4"
  }
 },
 "nbformat": 4,
 "nbformat_minor": 2
}
